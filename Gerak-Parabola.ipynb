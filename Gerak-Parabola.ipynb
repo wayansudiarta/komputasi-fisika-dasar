{
 "cells": [
  {
   "cell_type": "markdown",
   "id": "cf760fc2",
   "metadata": {},
   "source": [
    "# Gerak Parabola\n",
    "\n",
    "Simulasi gerak parabola dengan menggunakan metode Verlet versi posisi:\n",
    "$$ x_{n+1} = 2x_n - x_{n-1} + a_{xn}(\\Delta t)^2 $$\n",
    "$$ y_{n+1} = 2y_n - y_{n-1} + a_{yn}(\\Delta t)^2 $$\n",
    "\n",
    "Syarat awal: $x_0 = y_0 = 0$, $v_0 = 5$, $\\theta = 45$, $g = 9.81$\n",
    "Untuk memulai simulasi:\n",
    "$$x_1 = x_0 + v_{x0}\\Delta t + \\frac{1}{2}a_{x0}(\\Delta t)^2 $$\n",
    "$$y_1 = y_0 + v_{y0}\\Delta t + \\frac{1}{2}a_{y0}(\\Delta t)^2 $$"
   ]
  },
  {
   "cell_type": "code",
   "execution_count": 1,
   "id": "1e93781b",
   "metadata": {},
   "outputs": [],
   "source": [
    "%matplotlib inline\n",
    "import numpy as np\n",
    "import matplotlib.pyplot as plt"
   ]
  },
  {
   "cell_type": "code",
   "execution_count": 2,
   "id": "94374f80",
   "metadata": {},
   "outputs": [],
   "source": [
    "# nilai awal\n",
    "x0 = 0\n",
    "y0 = 0\n",
    "v0 = 5\n",
    "theta = 45 # dalam derajat\n",
    "vx0 = v0*np.cos(theta*np.pi/180)\n",
    "vy0 = v0*np.sin(theta*np.pi/180)\n",
    "g = 9.81\n",
    "ax0 = 0\n",
    "ay0 = -g\n",
    "dt = 0.01"
   ]
  },
  {
   "cell_type": "code",
   "execution_count": 5,
   "id": "22b69e70",
   "metadata": {},
   "outputs": [],
   "source": [
    "# untuk memulai hitung x1 dan y1\n",
    "x1 = x0 + vx0*dt + 0.5*ax0*dt**2\n",
    "y1 = y0 + vy0*dt + 0.5*ay0*dt**2\n",
    "\n",
    "ax1 = 0\n",
    "ay1 = -g"
   ]
  },
  {
   "cell_type": "code",
   "execution_count": 6,
   "id": "3a54f54a",
   "metadata": {},
   "outputs": [],
   "source": [
    "# Metode Verlet versi posisi\n",
    "xnm1 = x0\n",
    "ynm1 = y0\n",
    "xn = x1\n",
    "yn = y1\n",
    "x = [x0, x1]\n",
    "y = [y0, y1]\n",
    "axn = ax1\n",
    "ayn = ay1\n",
    "\n",
    "for n in range(100):\n",
    "    xnp1 = 2*xn - xnm1 + axn*dt**2\n",
    "    ynp1 = 2*yn - ynm1 + ayn*dt**2\n",
    "    \n",
    "    # hitung percepatan\n",
    "    axn = 0\n",
    "    ayn = -g\n",
    "    \n",
    "    # simpan\n",
    "    xnm1 = xn\n",
    "    ynm1 = yn\n",
    "    xn = xnp1\n",
    "    yn = ynp1\n",
    "\n",
    "    x.append(xn)\n",
    "    y.append(yn)"
   ]
  },
  {
   "cell_type": "code",
   "execution_count": 7,
   "id": "8d7234e2",
   "metadata": {},
   "outputs": [
    {
     "data": {
      "image/png": "[encoded data removed]",
      "text/plain": [
       "<Figure size 640x480 with 1 Axes>"
      ]
     },
     "metadata": {},
     "output_type": "display_data"
    }
   ],
   "source": [
    "plt.plot(x,y,'or')\n",
    "plt.show()"
   ]
  },
  {
   "cell_type": "code",
   "execution_count": null,
   "id": "400cb7ee",
   "metadata": {},
   "outputs": [],
   "source": []
  }
 ],
 "metadata": {
  "kernelspec": {
   "display_name": "Python 3 (ipykernel)",
   "language": "python",
   "name": "python3"
  },
  "language_info": {
   "codemirror_mode": {
    "name": "ipython",
    "version": 3
   },
   "file_extension": ".py",
   "mimetype": "text/x-python",
   "name": "python",
   "nbconvert_exporter": "python",
   "pygments_lexer": "ipython3",
   "version": "3.11.4"
  }
 },
 "nbformat": 4,
 "nbformat_minor": 5
}
