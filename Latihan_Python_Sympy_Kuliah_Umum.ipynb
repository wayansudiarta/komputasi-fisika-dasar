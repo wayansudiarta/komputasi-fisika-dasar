{
  "nbformat": 4,
  "nbformat_minor": 0,
  "metadata": {
    "colab": {
      "provenance": []
    },
    "kernelspec": {
      "name": "python3",
      "display_name": "Python 3"
    },
    "language_info": {
      "name": "python"
    }
  },
  "cells": [
    {
      "cell_type": "markdown",
      "source": [
        "# Latihan Menggunakan Sympy\n",
        "\n",
        "I Wayan Sudiarta\n",
        "\n",
        "\n",
        "Menulis Persamaan, contoh:\n",
        "$$ a^2 = \\left(\\frac{F}{m}\\right)^2$$\n",
        "\n",
        "$$ \\int_{-∞}^{\\infty} f(x) dx $$\n",
        "\n"
      ],
      "metadata": {
        "id": "re6z05J4VCaH"
      }
    },
    {
      "cell_type": "code",
      "execution_count": 1,
      "metadata": {
        "id": "gpjtnMUhUoVc"
      },
      "outputs": [],
      "source": [
        "# Cara menggunakan modul sympy\n",
        "import sympy"
      ]
    },
    {
      "cell_type": "code",
      "source": [
        "sympy.sin(sympy.pi/2)"
      ],
      "metadata": {
        "colab": {
          "base_uri": "https://localhost:8080/",
          "height": 37
        },
        "id": "QjE4FUEbWkWz",
        "outputId": "6acc0246-d94e-4eff-a9b8-1208b42b3d0e"
      },
      "execution_count": 2,
      "outputs": [
        {
          "output_type": "execute_result",
          "data": {
            "text/plain": [
              "1"
            ],
            "text/latex": "$\\displaystyle 1$"
          },
          "metadata": {},
          "execution_count": 2
        }
      ]
    },
    {
      "cell_type": "code",
      "source": [
        "# Menggunakan singkatan\n",
        "import sympy as sym"
      ],
      "metadata": {
        "id": "ddWJv5haWsEf"
      },
      "execution_count": 3,
      "outputs": []
    },
    {
      "cell_type": "code",
      "source": [
        "sym.sin(sym.pi/2)"
      ],
      "metadata": {
        "colab": {
          "base_uri": "https://localhost:8080/",
          "height": 37
        },
        "id": "Mi65Y-5rW0O6",
        "outputId": "66568496-0c33-4f37-b674-7594ba32d780"
      },
      "execution_count": 4,
      "outputs": [
        {
          "output_type": "execute_result",
          "data": {
            "text/plain": [
              "1"
            ],
            "text/latex": "$\\displaystyle 1$"
          },
          "metadata": {},
          "execution_count": 4
        }
      ]
    },
    {
      "cell_type": "code",
      "source": [
        "# Import semua fungsi/objek sympy\n",
        "from sympy import *"
      ],
      "metadata": {
        "id": "6UaQWMjnW4q7"
      },
      "execution_count": 5,
      "outputs": []
    },
    {
      "cell_type": "code",
      "source": [
        "sin(pi/2)"
      ],
      "metadata": {
        "colab": {
          "base_uri": "https://localhost:8080/",
          "height": 37
        },
        "id": "DMMl37c6XEVH",
        "outputId": "f89a8ef1-11a8-47dd-f589-01a8179e564b"
      },
      "execution_count": 6,
      "outputs": [
        {
          "output_type": "execute_result",
          "data": {
            "text/plain": [
              "1"
            ],
            "text/latex": "$\\displaystyle 1$"
          },
          "metadata": {},
          "execution_count": 6
        }
      ]
    },
    {
      "cell_type": "code",
      "source": [
        "init_printing()"
      ],
      "metadata": {
        "id": "liHf3u2rXGsV"
      },
      "execution_count": 7,
      "outputs": []
    },
    {
      "cell_type": "code",
      "source": [
        "# pangkat\n",
        "2**3"
      ],
      "metadata": {
        "colab": {
          "base_uri": "https://localhost:8080/",
          "height": 37
        },
        "id": "dq1zwhnWXM35",
        "outputId": "3f59e2d8-3e37-418f-97af-1d61fb1ba005"
      },
      "execution_count": 12,
      "outputs": [
        {
          "output_type": "execute_result",
          "data": {
            "text/plain": [
              "8"
            ],
            "text/latex": "$\\displaystyle 8$"
          },
          "metadata": {},
          "execution_count": 12
        }
      ]
    },
    {
      "cell_type": "code",
      "source": [
        "# penbagian bil bulat\n",
        "2//3"
      ],
      "metadata": {
        "colab": {
          "base_uri": "https://localhost:8080/",
          "height": 37
        },
        "id": "tY-7Aq29Xeuw",
        "outputId": "56d11f59-aadf-41c1-c77e-18885c3fcc33"
      },
      "execution_count": 13,
      "outputs": [
        {
          "output_type": "execute_result",
          "data": {
            "text/plain": [
              "0"
            ],
            "text/latex": "$\\displaystyle 0$"
          },
          "metadata": {},
          "execution_count": 13
        }
      ]
    },
    {
      "cell_type": "code",
      "source": [
        "N(pi,100)"
      ],
      "metadata": {
        "colab": {
          "base_uri": "https://localhost:8080/",
          "height": 37
        },
        "id": "JS-oDgLKXqxc",
        "outputId": "3436429f-7c68-4255-a1dc-7faeeab0c839"
      },
      "execution_count": 16,
      "outputs": [
        {
          "output_type": "execute_result",
          "data": {
            "text/plain": [
              "3.141592653589793238462643383279502884197169399375105820974944592307816406286208998628034825342117 ↪\n",
              "\n",
              "↪ 068"
            ],
            "text/latex": "$\\displaystyle 3.141592653589793238462643383279502884197169399375105820974944592307816406286208998628034825342117068$"
          },
          "metadata": {},
          "execution_count": 16
        }
      ]
    },
    {
      "cell_type": "code",
      "source": [
        "massa = 2.0\n",
        "gaya = 7.0\n",
        "percepatan = gaya/massa"
      ],
      "metadata": {
        "id": "E47Iy39eX4Sl"
      },
      "execution_count": 19,
      "outputs": []
    },
    {
      "cell_type": "code",
      "source": [
        "percepatan"
      ],
      "metadata": {
        "colab": {
          "base_uri": "https://localhost:8080/",
          "height": 37
        },
        "id": "4D544QCVYR48",
        "outputId": "a62ebe0f-8c5a-4e97-a992-d37164317585"
      },
      "execution_count": 20,
      "outputs": [
        {
          "output_type": "execute_result",
          "data": {
            "text/plain": [
              "3.5"
            ],
            "text/latex": "$\\displaystyle 3.5$"
          },
          "metadata": {},
          "execution_count": 20
        }
      ]
    },
    {
      "cell_type": "code",
      "source": [
        "x = symbols('x')\n",
        "y = symbols('y')"
      ],
      "metadata": {
        "id": "X0dAV7C8YTfi"
      },
      "execution_count": 21,
      "outputs": []
    },
    {
      "cell_type": "code",
      "source": [
        "z = (x+y)**3"
      ],
      "metadata": {
        "id": "b4tBJ9kRYtIp"
      },
      "execution_count": 22,
      "outputs": []
    },
    {
      "cell_type": "code",
      "source": [
        "z"
      ],
      "metadata": {
        "colab": {
          "base_uri": "https://localhost:8080/",
          "height": 39
        },
        "id": "HRY2R7G-Yyer",
        "outputId": "c97a73d0-e095-4c83-f939-264ed37bd545"
      },
      "execution_count": 23,
      "outputs": [
        {
          "output_type": "execute_result",
          "data": {
            "text/plain": [
              "       3\n",
              "(x + y) "
            ],
            "text/latex": "$\\displaystyle \\left(x + y\\right)^{3}$"
          },
          "metadata": {},
          "execution_count": 23
        }
      ]
    },
    {
      "cell_type": "code",
      "source": [
        "expand(z)"
      ],
      "metadata": {
        "colab": {
          "base_uri": "https://localhost:8080/",
          "height": 39
        },
        "id": "aihuW2kCYzQB",
        "outputId": "03008fd5-7f37-4f66-9f7c-3e2a6077abd6"
      },
      "execution_count": 24,
      "outputs": [
        {
          "output_type": "execute_result",
          "data": {
            "text/plain": [
              " 3      2          2    3\n",
              "x  + 3⋅x ⋅y + 3⋅x⋅y  + y "
            ],
            "text/latex": "$\\displaystyle x^{3} + 3 x^{2} y + 3 x y^{2} + y^{3}$"
          },
          "metadata": {},
          "execution_count": 24
        }
      ]
    },
    {
      "cell_type": "code",
      "source": [
        "f = x**4 - 2*x -1"
      ],
      "metadata": {
        "id": "eP2B2Q1mY4CU"
      },
      "execution_count": 25,
      "outputs": []
    },
    {
      "cell_type": "code",
      "source": [
        "f"
      ],
      "metadata": {
        "colab": {
          "base_uri": "https://localhost:8080/",
          "height": 39
        },
        "id": "npa2Vcy1ZFnb",
        "outputId": "9fe9cb8e-36c3-492b-fa26-6f2ded01ffc3"
      },
      "execution_count": 26,
      "outputs": [
        {
          "output_type": "execute_result",
          "data": {
            "text/plain": [
              " 4          \n",
              "x  - 2⋅x - 1"
            ],
            "text/latex": "$\\displaystyle x^{4} - 2 x - 1$"
          },
          "metadata": {},
          "execution_count": 26
        }
      ]
    },
    {
      "cell_type": "code",
      "source": [
        "# turunan fungsi f\n",
        "diff(f,x,2)"
      ],
      "metadata": {
        "colab": {
          "base_uri": "https://localhost:8080/",
          "height": 39
        },
        "id": "N4Kv8kWdZGaD",
        "outputId": "007a8ff8-9077-4a2a-ebdc-bc5460519e59"
      },
      "execution_count": 28,
      "outputs": [
        {
          "output_type": "execute_result",
          "data": {
            "text/plain": [
              "    2\n",
              "12⋅x "
            ],
            "text/latex": "$\\displaystyle 12 x^{2}$"
          },
          "metadata": {},
          "execution_count": 28
        }
      ]
    },
    {
      "cell_type": "code",
      "source": [
        "integrate(f,(x, 0, 2))"
      ],
      "metadata": {
        "colab": {
          "base_uri": "https://localhost:8080/",
          "height": 54
        },
        "id": "TDwX9UIOZOko",
        "outputId": "bb71c6ce-9c55-439e-d244-279383fa115f"
      },
      "execution_count": 29,
      "outputs": [
        {
          "output_type": "execute_result",
          "data": {
            "text/plain": [
              " 5         \n",
              "x     2    \n",
              "── - x  - x\n",
              "5          "
            ],
            "text/latex": "$\\displaystyle \\frac{x^{5}}{5} - x^{2} - x$"
          },
          "metadata": {},
          "execution_count": 29
        }
      ]
    },
    {
      "cell_type": "markdown",
      "source": [
        "Hitung integral f = $\\int_0^2 f(x) dx $"
      ],
      "metadata": {
        "id": "TuVBALcNZc6u"
      }
    },
    {
      "cell_type": "code",
      "source": [
        "integrate(f, (x,0,2))"
      ],
      "metadata": {
        "colab": {
          "base_uri": "https://localhost:8080/",
          "height": 51
        },
        "id": "EgHow4AbZU5z",
        "outputId": "7a1466b0-a5e8-475f-cdf9-bb0625dd4894"
      },
      "execution_count": 30,
      "outputs": [
        {
          "output_type": "execute_result",
          "data": {
            "text/plain": [
              "2/5"
            ],
            "text/latex": "$\\displaystyle \\frac{2}{5}$"
          },
          "metadata": {},
          "execution_count": 30
        }
      ]
    },
    {
      "cell_type": "code",
      "source": [
        "x, y, z = symbols('x y z')"
      ],
      "metadata": {
        "id": "Ou5ZBFQ6ZsOM"
      },
      "execution_count": 31,
      "outputs": []
    },
    {
      "cell_type": "code",
      "source": [
        "eq1 = x - z - 5\n",
        "eq2 = -2*x +3*y - 1\n",
        "eq3 = x -3*y + 2*z + 10"
      ],
      "metadata": {
        "id": "gEYONjyzZ3FA"
      },
      "execution_count": 32,
      "outputs": []
    },
    {
      "cell_type": "code",
      "source": [
        "solve([eq1, eq2, eq3], [x,y,z])"
      ],
      "metadata": {
        "colab": {
          "base_uri": "https://localhost:8080/",
          "height": 39
        },
        "id": "4uRa5TB2aWH-",
        "outputId": "2326a7aa-6ba9-4ed7-e13a-69bc9ec0f442"
      },
      "execution_count": 33,
      "outputs": [
        {
          "output_type": "execute_result",
          "data": {
            "text/plain": [
              "{x: 1, y: 1, z: -4}"
            ],
            "text/latex": "$\\displaystyle \\left\\{ x : 1, \\  y : 1, \\  z : -4\\right\\}$"
          },
          "metadata": {},
          "execution_count": 33
        }
      ]
    },
    {
      "cell_type": "markdown",
      "source": [
        "Menyelesaikan persamaan diferensial biasa:\n",
        "$$ y'' + y' + 16 y = 0$$"
      ],
      "metadata": {
        "id": "lj-3rKUpasak"
      }
    },
    {
      "cell_type": "code",
      "source": [
        "x = symbols('x')\n",
        "y = Function('y')"
      ],
      "metadata": {
        "id": "oEXgT-IEadQw"
      },
      "execution_count": 34,
      "outputs": []
    },
    {
      "cell_type": "code",
      "source": [
        "pdb = y(x).diff(x,x) + y(x).diff(x) + 16*y(x)"
      ],
      "metadata": {
        "id": "ctpVcfIMbAqG"
      },
      "execution_count": 35,
      "outputs": []
    },
    {
      "cell_type": "code",
      "source": [
        "pdb"
      ],
      "metadata": {
        "colab": {
          "base_uri": "https://localhost:8080/",
          "height": 54
        },
        "id": "ugSwh0-CbOfR",
        "outputId": "2f51394a-6721-416f-826e-e6625d2e3495"
      },
      "execution_count": 36,
      "outputs": [
        {
          "output_type": "execute_result",
          "data": {
            "text/plain": [
              "                      2       \n",
              "          d          d        \n",
              "16⋅y(x) + ──(y(x)) + ───(y(x))\n",
              "          dx           2      \n",
              "                     dx       "
            ],
            "text/latex": "$\\displaystyle 16 y{\\left(x \\right)} + \\frac{d}{d x} y{\\left(x \\right)} + \\frac{d^{2}}{d x^{2}} y{\\left(x \\right)}$"
          },
          "metadata": {},
          "execution_count": 36
        }
      ]
    },
    {
      "cell_type": "code",
      "source": [
        "sol = dsolve(pdb)"
      ],
      "metadata": {
        "id": "iM1CO0-rbPZx"
      },
      "execution_count": 37,
      "outputs": []
    },
    {
      "cell_type": "code",
      "source": [
        "sol"
      ],
      "metadata": {
        "colab": {
          "base_uri": "https://localhost:8080/",
          "height": 68
        },
        "id": "JmtMEJcmbYf_",
        "outputId": "f33dab9e-ea69-47a0-808c-0226c0904877"
      },
      "execution_count": 38,
      "outputs": [
        {
          "output_type": "execute_result",
          "data": {
            "text/plain": [
              "                                          -x \n",
              "                                          ───\n",
              "       ⎛      ⎛3⋅√7⋅x⎞         ⎛3⋅√7⋅x⎞⎞   2 \n",
              "y(x) = ⎜C₁⋅sin⎜──────⎟ + C₂⋅cos⎜──────⎟⎟⋅ℯ   \n",
              "       ⎝      ⎝  2   ⎠         ⎝  2   ⎠⎠     "
            ],
            "text/latex": "$\\displaystyle y{\\left(x \\right)} = \\left(C_{1} \\sin{\\left(\\frac{3 \\sqrt{7} x}{2} \\right)} + C_{2} \\cos{\\left(\\frac{3 \\sqrt{7} x}{2} \\right)}\\right) e^{- \\frac{x}{2}}$"
          },
          "metadata": {},
          "execution_count": 38
        }
      ]
    },
    {
      "cell_type": "code",
      "source": [
        "ys = sol.rhs"
      ],
      "metadata": {
        "id": "GmCX0PkwbZqc"
      },
      "execution_count": 39,
      "outputs": []
    },
    {
      "cell_type": "code",
      "source": [
        "C1, C2 = symbols('C1 C2')"
      ],
      "metadata": {
        "id": "Vl4ADa15bzFO"
      },
      "execution_count": 42,
      "outputs": []
    },
    {
      "cell_type": "code",
      "source": [
        "yf = ys.subs({C1:0, C2:1})"
      ],
      "metadata": {
        "id": "AFRiuiQPbz2l"
      },
      "execution_count": 44,
      "outputs": []
    },
    {
      "cell_type": "code",
      "source": [
        "yf"
      ],
      "metadata": {
        "colab": {
          "base_uri": "https://localhost:8080/",
          "height": 68
        },
        "id": "kyBOKMZscTvF",
        "outputId": "e03bc6e1-f3af-423d-f967-7b434f1c0aa4"
      },
      "execution_count": 45,
      "outputs": [
        {
          "output_type": "execute_result",
          "data": {
            "text/plain": [
              " -x             \n",
              " ───            \n",
              "  2     ⎛3⋅√7⋅x⎞\n",
              "ℯ   ⋅cos⎜──────⎟\n",
              "        ⎝  2   ⎠"
            ],
            "text/latex": "$\\displaystyle e^{- \\frac{x}{2}} \\cos{\\left(\\frac{3 \\sqrt{7} x}{2} \\right)}$"
          },
          "metadata": {},
          "execution_count": 45
        }
      ]
    },
    {
      "cell_type": "code",
      "source": [
        "# grafik\n",
        "plot(yf, (x,0, 10))"
      ],
      "metadata": {
        "colab": {
          "base_uri": "https://localhost:8080/",
          "height": 504
        },
        "id": "vGI8JrxzcYGp",
        "outputId": "a3f82ec3-4f80-4f5d-9252-78951f71d543"
      },
      "execution_count": 46,
      "outputs": [
        {
          "output_type": "display_data",
          "data": {
            "text/plain": [
              "<Figure size 640x480 with 1 Axes>"
            ],
            "image/png": "[encoded data removed]"
          },
          "metadata": {}
        },
        {
          "output_type": "execute_result",
          "data": {
            "text/plain": [
              "<sympy.plotting.backends.matplotlibbackend.matplotlib.MatplotlibBackend at 0x7a95f2048a30>"
            ]
          },
          "metadata": {},
          "execution_count": 46
        }
      ]
    },
    {
      "cell_type": "code",
      "source": [],
      "metadata": {
        "id": "QvIdYtTlcjy_"
      },
      "execution_count": null,
      "outputs": []
    },
    {
      "cell_type": "markdown",
      "source": [
        "## Menggunakan Python untuk Komputasi Numerik\n",
        "\n",
        "Gerak Proyektil: Hanya ada percepatan gravitasi.\n",
        "\n",
        "$$ \\mathbf{a} = \\frac{\\mathbf{F}}{m} $$\n",
        "\n",
        "$$ \\frac{d^2 x}{dt^2} = a_x  = 0$$\n",
        "\n",
        "$$ \\frac{d^2 y}{dt^2} = a_y = -g$$\n",
        "\n",
        "Metode Euler:\n",
        "$$ x_{n+1} = x_n + v_{x,n} \\Delta t $$\n",
        "$$ v_{x,n+1} = v_{x,n} + a_{x,n} \\Delta t $$\n",
        "$$ y_{n+1} = y_n + v_{y,n} \\Delta t $$\n",
        "$$ v_{y,n+1} = v_{y,n} + a_{y,n} \\Delta t $$\n",
        "\n"
      ],
      "metadata": {
        "id": "T3v9PzwWiQLp"
      }
    },
    {
      "cell_type": "code",
      "source": [
        "import numpy as np"
      ],
      "metadata": {
        "id": "CAEplqHQiW79"
      },
      "execution_count": 47,
      "outputs": []
    },
    {
      "cell_type": "code",
      "source": [
        "N = 200\n",
        "x = np.zeros(N+1)\n",
        "vx = np.zeros(N+1)\n",
        "y = np.zeros(N+1)\n",
        "vy = np.zeros(N+1)"
      ],
      "metadata": {
        "id": "yRLPKPsdjjQJ"
      },
      "execution_count": 67,
      "outputs": []
    },
    {
      "cell_type": "code",
      "source": [
        "v0 = 10. # m/s\n",
        "theta = 30. # derajat\n",
        "y[0] = 5. # m\n",
        "x[0] = 0\n",
        "vx[0] = v0*np.cos(theta*np.pi/180)\n",
        "vy[0] = v0*np.sin(theta*np.pi/180)\n",
        "dt = 0.01\n",
        "ax = 0\n",
        "ay = -9.8\n",
        "\n",
        "t = np.arange(N+1)*dt"
      ],
      "metadata": {
        "id": "1qkF_VYnj1fQ"
      },
      "execution_count": 80,
      "outputs": []
    },
    {
      "cell_type": "code",
      "source": [
        "for n in range(N):\n",
        "  x[n+1] = x[n] + vx[n]*dt\n",
        "  vx[n+1] = vx[n] + ax*dt\n",
        "  y[n+1] = y[n] + vy[n]*dt\n",
        "  vy[n+1] = vy[n] + ay*dt"
      ],
      "metadata": {
        "id": "taMDHBUej2FU"
      },
      "execution_count": 69,
      "outputs": []
    },
    {
      "cell_type": "code",
      "source": [
        "#visualisasi dengan matplotlib\n",
        "import matplotlib.pyplot as plt"
      ],
      "metadata": {
        "id": "OY3GU4PYlpv0"
      },
      "execution_count": 70,
      "outputs": []
    },
    {
      "cell_type": "code",
      "source": [
        "plt.plot(x,y, 'or')\n",
        "plt.hlines(0,0,20)\n",
        "plt.hlines(5,0,-1)\n",
        "plt.vlines(0,0,5)\n",
        "plt.show()"
      ],
      "metadata": {
        "colab": {
          "base_uri": "https://localhost:8080/",
          "height": 430
        },
        "id": "Lgnrv8vGlxXC",
        "outputId": "4e51a8d8-a4d6-4b2e-de06-5450f90e95a7"
      },
      "execution_count": 75,
      "outputs": [
        {
          "output_type": "display_data",
          "data": {
            "text/plain": [
              "<Figure size 640x480 with 1 Axes>"
            ],
            "image/png": "[encoded data removed]"
          },
          "metadata": {}
        }
      ]
    },
    {
      "cell_type": "code",
      "source": [
        "# Ambil data untuk y>0 saja.\n",
        "yp = y[y>0]\n",
        "xp = x[y>0]\n",
        "t = t[y>0]"
      ],
      "metadata": {
        "id": "eH2MHPkbmNzm"
      },
      "execution_count": 82,
      "outputs": []
    },
    {
      "cell_type": "code",
      "source": [
        "plt.plot(xp,yp,'-b')\n",
        "plt.show()"
      ],
      "metadata": {
        "colab": {
          "base_uri": "https://localhost:8080/",
          "height": 430
        },
        "id": "Y0G2E6B8nvGo",
        "outputId": "edf394a9-74a8-4ce3-8435-217a3808edc2"
      },
      "execution_count": 83,
      "outputs": [
        {
          "output_type": "display_data",
          "data": {
            "text/plain": [
              "<Figure size 640x480 with 1 Axes>"
            ],
            "image/png": "[encoded data removed]"
          },
          "metadata": {}
        }
      ]
    },
    {
      "cell_type": "code",
      "source": [
        "# menentukan waktu tiba di tanah\n",
        "t"
      ],
      "metadata": {
        "colab": {
          "base_uri": "https://localhost:8080/"
        },
        "id": "kWYCHGHOohdm",
        "outputId": "f39bb179-71a6-44c3-b9a0-640c4a635346"
      },
      "execution_count": 84,
      "outputs": [
        {
          "output_type": "execute_result",
          "data": {
            "text/plain": [
              "array([0.  , 0.01, 0.02, 0.03, 0.04, 0.05, 0.06, 0.07, 0.08, 0.09, 0.1 ,\n",
              "       0.11, 0.12, 0.13, 0.14, 0.15, 0.16, 0.17, 0.18, 0.19, 0.2 , 0.21,\n",
              "       0.22, 0.23, 0.24, 0.25, 0.26, 0.27, 0.28, 0.29, 0.3 , 0.31, 0.32,\n",
              "       0.33, 0.34, 0.35, 0.36, 0.37, 0.38, 0.39, 0.4 , 0.41, 0.42, 0.43,\n",
              "       0.44, 0.45, 0.46, 0.47, 0.48, 0.49, 0.5 , 0.51, 0.52, 0.53, 0.54,\n",
              "       0.55, 0.56, 0.57, 0.58, 0.59, 0.6 , 0.61, 0.62, 0.63, 0.64, 0.65,\n",
              "       0.66, 0.67, 0.68, 0.69, 0.7 , 0.71, 0.72, 0.73, 0.74, 0.75, 0.76,\n",
              "       0.77, 0.78, 0.79, 0.8 , 0.81, 0.82, 0.83, 0.84, 0.85, 0.86, 0.87,\n",
              "       0.88, 0.89, 0.9 , 0.91, 0.92, 0.93, 0.94, 0.95, 0.96, 0.97, 0.98,\n",
              "       0.99, 1.  , 1.01, 1.02, 1.03, 1.04, 1.05, 1.06, 1.07, 1.08, 1.09,\n",
              "       1.1 , 1.11, 1.12, 1.13, 1.14, 1.15, 1.16, 1.17, 1.18, 1.19, 1.2 ,\n",
              "       1.21, 1.22, 1.23, 1.24, 1.25, 1.26, 1.27, 1.28, 1.29, 1.3 , 1.31,\n",
              "       1.32, 1.33, 1.34, 1.35, 1.36, 1.37, 1.38, 1.39, 1.4 , 1.41, 1.42,\n",
              "       1.43, 1.44, 1.45, 1.46, 1.47, 1.48, 1.49, 1.5 , 1.51, 1.52, 1.53,\n",
              "       1.54, 1.55, 1.56, 1.57, 1.58, 1.59, 1.6 , 1.61, 1.62, 1.63, 1.64])"
            ]
          },
          "metadata": {},
          "execution_count": 84
        }
      ]
    },
    {
      "cell_type": "code",
      "source": [
        "# Cek waktu terakhir dengan indeks -1\n",
        "t[-1]"
      ],
      "metadata": {
        "colab": {
          "base_uri": "https://localhost:8080/",
          "height": 37
        },
        "id": "oFrG_jXGowdE",
        "outputId": "98659188-5c37-4605-d60a-64094a996131"
      },
      "execution_count": 88,
      "outputs": [
        {
          "output_type": "execute_result",
          "data": {
            "text/plain": [
              "1.6400000000000001"
            ],
            "text/latex": "$\\displaystyle 1.64$"
          },
          "metadata": {},
          "execution_count": 88
        }
      ]
    },
    {
      "cell_type": "code",
      "source": [],
      "metadata": {
        "id": "UYudwwkuo4SM"
      },
      "execution_count": null,
      "outputs": []
    }
  ]
}