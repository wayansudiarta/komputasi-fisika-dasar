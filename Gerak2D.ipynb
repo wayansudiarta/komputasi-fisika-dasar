{
 "cells": [
  {
   "cell_type": "markdown",
   "metadata": {},
   "source": [
    "# Solusi Persamaan Newton 2D dengan VPython\n",
    "## Kasus - Sistem Matahari-Planet\n",
    "\n",
    "Pada bagian ini, kita belajar menyelesaikan persamaan Newton pada ruang dimensi dua (2D) yaitu\n",
    "\\begin{equation}\n",
    "\\frac{d^2 \\mathbf{r}}{dt^2} = \\mathbf{a} = \\frac{\\mathbf{F}_{net}}{m}\n",
    "\\end{equation}\n",
    "\n",
    "Menggunakan vektor posisi $\\mathbf{r} = x \\mathbf{\\hat{i}} + y \\mathbf{\\hat{j}}$ dan vektor percepatan $\\mathbf{a} = a_x \\mathbf{\\hat{i}} + a_y \\mathbf{\\hat{j}}$ diperoleh dua persamaan\n",
    "\n",
    "\\begin{equation}\n",
    "\\frac{d^2 x}{dt^2} = a_x = \\frac{F_{x,net}}{m}\n",
    "\\end{equation}\n",
    "\\begin{equation}\n",
    "\\frac{d^2 y}{dt^2} = a_y = \\frac{F_{y,net}}{m}\n",
    "\\end{equation}\n",
    "\n",
    "Agar lebih mudah dimengerti lebih lanjut kita menggunakan contoh gerakan planet (bumi) mengelilingi matahari. Asumsi Matahari tidak bergerak dan diletakkan pada posisi origin. "
   ]
  },
  {
   "cell_type": "markdown",
   "metadata": {},
   "source": [
    "## Gerak Planet Mengelilingi Matahari\n",
    "\n",
    "Kita menyelesaikan persamaan Newton untuk sistem Matahari-Planet dengan percepatan $\\mathbf{a} = a_x \\mathbf{\\hat{i}} + a_y \\mathbf{\\hat{j}}$ sebagai berikut.\n",
    "\\begin{equation}\n",
    "\\mathbf{a} = -\\frac{GM}{r^3}(x\\hat{\\mathbf{i}} + y\\hat{\\mathbf{j}}) \n",
    "\\end{equation}\n",
    "\n",
    "Agar lebih sederhana, kita menggunakan satuan panjang dalam satuan astronomi (SA) dan satuan waktu dalam tahun. (Lihat metode Scaling)\n",
    "\n",
    "Sehingga didapatkan $GM = 4\\pi^2$\n",
    "\n",
    "\\begin{equation}\n",
    "a_x = -\\frac{4\\pi^2}{r^3} x \n",
    "\\end{equation}\n",
    "\n",
    "\\begin{equation}\n",
    "a_y = -\\frac{4\\pi^2}{r^3} y \n",
    "\\end{equation}\n",
    "\n",
    "\\begin{equation}\n",
    "\\frac{d^2 x}{d t^2} = a_x\n",
    "\\end{equation}\n",
    "\n",
    "\\begin{equation}\n",
    "\\frac{d^2 y}{d t^2} = a_y\n",
    "\\end{equation}\n",
    "\n",
    "Kita ubah menjadi masing-masing dua persamaan dengan $v_x = dx/dt$ dan $v_y = dy/dt$:\n",
    "\n",
    "\\begin{equation}\n",
    "\\frac{d v_x}{d t} = a_x\n",
    "\\end{equation}\n",
    "\n",
    "\\begin{equation}\n",
    "\\frac{d x}{d t} = v_x\n",
    "\\end{equation}\n",
    "\n",
    "\\begin{equation}\n",
    "\\frac{d v_y}{d t} = a_y\n",
    "\\end{equation}\n",
    "\n",
    "\\begin{equation}\n",
    "\\frac{d y}{d t} = v_y\n",
    "\\end{equation}\n",
    "\n",
    "Untuk Kasus Bumi-Matahari, posisi awal adalah berjarak 1 SA dan karena gerakan berupa lingkaram, arah kecepatan awal tegak lurus dengan arah $\\mathbf{r}$. Karena dalam setahun menempuh jarak $2\\pi a$, $a = 1$ maka laju awalnya adalah $2\\pi$. "
   ]
  },
  {
   "cell_type": "code",
   "execution_count": 1,
   "metadata": {},
   "outputs": [],
   "source": [
    "%matplotlib inline"
   ]
  },
  {
   "cell_type": "code",
   "execution_count": 2,
   "metadata": {},
   "outputs": [
    {
     "data": {
      "text/html": [
       "<div id=\"glowscript\" class=\"glowscript\"></div>"
      ],
      "text/plain": [
       "<IPython.core.display.HTML object>"
      ]
     },
     "metadata": {},
     "output_type": "display_data"
    },
    {
     "data": {
      "application/javascript": [
       "if (typeof Jupyter !== \"undefined\") { window.__context = { glowscript_container: $(\"#glowscript\").removeAttr(\"id\")};}else{ element.textContent = ' ';}"
      ],
      "text/plain": [
       "<IPython.core.display.Javascript object>"
      ]
     },
     "metadata": {},
     "output_type": "display_data"
    }
   ],
   "source": [
    "import numpy as np\n",
    "import matplotlib.pyplot as plt\n",
    "from math import pi, sqrt\n",
    "from vpython import *"
   ]
  },
  {
   "cell_type": "code",
   "execution_count": 3,
   "metadata": {},
   "outputs": [],
   "source": [
    "# Inisialisasi parameter\n",
    "\n",
    "GM = 4.0*pi**2   # Konstanta\n",
    "\n",
    "# Delta t dalam sekon\n",
    "dt = 0.01\n",
    "\n",
    "# Posisi awal dalam satuan astronomi (SA) dan kecepatan awal dalam SA/tahun\n",
    "x0 = 1.0  \n",
    "y0 = 0.0\n",
    "vx0 = 0.0\n",
    "vy0 = 2.0*pi\n"
   ]
  },
  {
   "cell_type": "markdown",
   "metadata": {},
   "source": [
    "## Metode Verlet versi Kecepatan\n",
    "\n",
    "Dengan metode Verlet versi posisi, persamaan iterasi numerik untuk selang waktu $\\Delta t$ adalah\n",
    "\\begin{equation}\n",
    "x_{n+1} = x_n + v_{x,n}\\Delta t + \\frac{1}{2}a_{x,n}(\\Delta t)^2\n",
    "\\end{equation}\n",
    "\\begin{equation}\n",
    "y_{n+1} = y_n + v_{y,n}\\Delta t + \\frac{1}{2}a_{y,n}(\\Delta t)^2\n",
    "\\end{equation}\n",
    "\n",
    "\\begin{equation}\n",
    "v_{x,n+1} = v_{x,n} + \\frac{1}{2}(a_{x,n} + a_{x,n+1})\\Delta t\n",
    "\\end{equation}\n",
    "\\begin{equation}\n",
    "v_{y,n+1} = v_{y,n} + \\frac{1}{2}(a_{y,n} + a_{y,n+1})\\Delta t\n",
    "\\end{equation}"
   ]
  },
  {
   "cell_type": "code",
   "execution_count": 4,
   "metadata": {},
   "outputs": [
    {
     "data": {
      "text/html": [
       "<div id=\"glowscript\" class=\"glowscript\"></div>"
      ],
      "text/plain": [
       "<IPython.core.display.HTML object>"
      ]
     },
     "metadata": {},
     "output_type": "display_data"
    },
    {
     "data": {
      "application/javascript": [
       "if (typeof Jupyter !== \"undefined\") { window.__context = { glowscript_container: $(\"#glowscript\").removeAttr(\"id\")};}else{ element.textContent = ' ';}"
      ],
      "text/plain": [
       "<IPython.core.display.Javascript object>"
      ]
     },
     "metadata": {},
     "output_type": "display_data"
    },
    {
     "data": {
      "application/javascript": [
       "if (typeof Jupyter !== \"undefined\") {require.undef(\"nbextensions/vpython_libraries/glow.min\");}else{element.textContent = ' ';}"
      ],
      "text/plain": [
       "<IPython.core.display.Javascript object>"
      ]
     },
     "metadata": {},
     "output_type": "display_data"
    },
    {
     "data": {
      "application/javascript": [
       "if (typeof Jupyter !== \"undefined\") {require.undef(\"nbextensions/vpython_libraries/glowcomm\");}else{element.textContent = ' ';}"
      ],
      "text/plain": [
       "<IPython.core.display.Javascript object>"
      ]
     },
     "metadata": {},
     "output_type": "display_data"
    },
    {
     "data": {
      "application/javascript": [
       "if (typeof Jupyter !== \"undefined\") {require.undef(\"nbextensions/vpython_libraries/jquery-ui.custom.min\");}else{element.textContent = ' ';}"
      ],
      "text/plain": [
       "<IPython.core.display.Javascript object>"
      ]
     },
     "metadata": {},
     "output_type": "display_data"
    },
    {
     "data": {
      "application/javascript": [
       "if (typeof Jupyter !== \"undefined\") {require([\"nbextensions/vpython_libraries/glow.min\"], function(){console.log(\"GLOW LOADED\");});}else{element.textContent = ' ';}"
      ],
      "text/plain": [
       "<IPython.core.display.Javascript object>"
      ]
     },
     "metadata": {},
     "output_type": "display_data"
    },
    {
     "data": {
      "application/javascript": [
       "if (typeof Jupyter !== \"undefined\") {require([\"nbextensions/vpython_libraries/glowcomm\"], function(){console.log(\"GLOWCOMM LOADED\");});}else{element.textContent = ' ';}"
      ],
      "text/plain": [
       "<IPython.core.display.Javascript object>"
      ]
     },
     "metadata": {},
     "output_type": "display_data"
    },
    {
     "data": {
      "application/javascript": [
       "if (typeof Jupyter !== \"undefined\") {require([\"nbextensions/vpython_libraries/jquery-ui.custom.min\"], function(){console.log(\"JQUERY LOADED\");});}else{element.textContent = ' ';}"
      ],
      "text/plain": [
       "<IPython.core.display.Javascript object>"
      ]
     },
     "metadata": {},
     "output_type": "display_data"
    },
    {
     "ename": "KeyboardInterrupt",
     "evalue": "",
     "output_type": "error",
     "traceback": [
      "\u001b[0;31m---------------------------------------------------------------------------\u001b[0m",
      "\u001b[0;31mKeyboardInterrupt\u001b[0m                         Traceback (most recent call last)",
      "Cell \u001b[0;32mIn[4], line 11\u001b[0m\n\u001b[1;32m      9\u001b[0m scene \u001b[38;5;241m=\u001b[39m canvas(title\u001b[38;5;241m=\u001b[39m\u001b[38;5;124m'\u001b[39m\u001b[38;5;124mMatahari dan Planet\u001b[39m\u001b[38;5;124m'\u001b[39m, width\u001b[38;5;241m=\u001b[39m\u001b[38;5;241m400\u001b[39m, height\u001b[38;5;241m=\u001b[39m\u001b[38;5;241m400\u001b[39m, center\u001b[38;5;241m=\u001b[39mvector(\u001b[38;5;241m0\u001b[39m,\u001b[38;5;241m0\u001b[39m,\u001b[38;5;241m0\u001b[39m))\n\u001b[1;32m     10\u001b[0m \u001b[38;5;66;03m# Buat Bola\u001b[39;00m\n\u001b[0;32m---> 11\u001b[0m sun \u001b[38;5;241m=\u001b[39m \u001b[43msphere\u001b[49m\u001b[43m(\u001b[49m\u001b[43mpos\u001b[49m\u001b[38;5;241;43m=\u001b[39;49m\u001b[43mvector\u001b[49m\u001b[43m(\u001b[49m\u001b[38;5;241;43m0\u001b[39;49m\u001b[43m,\u001b[49m\u001b[38;5;241;43m0\u001b[39;49m\u001b[43m,\u001b[49m\u001b[38;5;241;43m0\u001b[39;49m\u001b[43m)\u001b[49m\u001b[43m,\u001b[49m\u001b[43m \u001b[49m\u001b[43mradius\u001b[49m\u001b[38;5;241;43m=\u001b[39;49m\u001b[43m \u001b[49m\u001b[38;5;241;43m0.3\u001b[39;49m\u001b[43m,\u001b[49m\u001b[43m \u001b[49m\u001b[43mcolor\u001b[49m\u001b[38;5;241;43m=\u001b[39;49m\u001b[43mcolor\u001b[49m\u001b[38;5;241;43m.\u001b[39;49m\u001b[43myellow\u001b[49m\u001b[43m)\u001b[49m\n\u001b[1;32m     12\u001b[0m planet \u001b[38;5;241m=\u001b[39m sphere(pos\u001b[38;5;241m=\u001b[39mvector(\u001b[38;5;241m1\u001b[39m,\u001b[38;5;241m0\u001b[39m,\u001b[38;5;241m0\u001b[39m), radius\u001b[38;5;241m=\u001b[39m \u001b[38;5;241m0.1\u001b[39m, make_trail\u001b[38;5;241m=\u001b[39m\u001b[38;5;28;01mTrue\u001b[39;00m, texture\u001b[38;5;241m=\u001b[39mtextures\u001b[38;5;241m.\u001b[39mearth)\n\u001b[1;32m     13\u001b[0m \u001b[38;5;66;03m# \u001b[39;00m\n\u001b[1;32m     14\u001b[0m \n\u001b[1;32m     15\u001b[0m \u001b[38;5;66;03m# Nilai awal\u001b[39;00m\n",
      "File \u001b[0;32m/opt/homebrew/lib/python3.11/site-packages/vpython/vpython.py:1172\u001b[0m, in \u001b[0;36msphere.__init__\u001b[0;34m(self, **args)\u001b[0m\n\u001b[1;32m   1170\u001b[0m args[\u001b[38;5;124m'\u001b[39m\u001b[38;5;124m_default_size\u001b[39m\u001b[38;5;124m'\u001b[39m] \u001b[38;5;241m=\u001b[39m vector(\u001b[38;5;241m2\u001b[39m,\u001b[38;5;241m2\u001b[39m,\u001b[38;5;241m2\u001b[39m)\n\u001b[1;32m   1171\u001b[0m args[\u001b[38;5;124m'\u001b[39m\u001b[38;5;124m_objName\u001b[39m\u001b[38;5;124m'\u001b[39m] \u001b[38;5;241m=\u001b[39m \u001b[38;5;124m\"\u001b[39m\u001b[38;5;124msphere\u001b[39m\u001b[38;5;124m\"\u001b[39m\n\u001b[0;32m-> 1172\u001b[0m \u001b[38;5;28;43msuper\u001b[39;49m\u001b[43m(\u001b[49m\u001b[43msphere\u001b[49m\u001b[43m,\u001b[49m\u001b[43m \u001b[49m\u001b[38;5;28;43mself\u001b[39;49m\u001b[43m)\u001b[49m\u001b[38;5;241;43m.\u001b[39;49m\u001b[43msetup\u001b[49m\u001b[43m(\u001b[49m\u001b[43margs\u001b[49m\u001b[43m)\u001b[49m\n\u001b[1;32m   1173\u001b[0m \u001b[38;5;28mself\u001b[39m\u001b[38;5;241m.\u001b[39m_sizing \u001b[38;5;241m=\u001b[39m \u001b[38;5;28;01mFalse\u001b[39;00m\n",
      "File \u001b[0;32m/opt/homebrew/lib/python3.11/site-packages/vpython/vpython.py:599\u001b[0m, in \u001b[0;36mstandardAttributes.setup\u001b[0;34m(self, args)\u001b[0m\n\u001b[1;32m    598\u001b[0m \u001b[38;5;28;01mdef\u001b[39;00m \u001b[38;5;21msetup\u001b[39m(\u001b[38;5;28mself\u001b[39m, args):\n\u001b[0;32m--> 599\u001b[0m     \u001b[38;5;28;43msuper\u001b[39;49m\u001b[43m(\u001b[49m\u001b[43mstandardAttributes\u001b[49m\u001b[43m,\u001b[49m\u001b[43m \u001b[49m\u001b[38;5;28;43mself\u001b[39;49m\u001b[43m)\u001b[49m\u001b[38;5;241;43m.\u001b[39;49m\u001b[38;5;21;43m__init__\u001b[39;49m\u001b[43m(\u001b[49m\u001b[43m)\u001b[49m\n\u001b[1;32m    600\u001b[0m     \u001b[38;5;28mself\u001b[39m\u001b[38;5;241m.\u001b[39m_constructing \u001b[38;5;241m=\u001b[39m \u001b[38;5;28;01mTrue\u001b[39;00m  \u001b[38;5;66;03m## calls to setters are from constructor\u001b[39;00m\n\u001b[1;32m    602\u001b[0m     objName \u001b[38;5;241m=\u001b[39m \u001b[38;5;28mself\u001b[39m\u001b[38;5;241m.\u001b[39m_objName \u001b[38;5;241m=\u001b[39m args[\u001b[38;5;124m'\u001b[39m\u001b[38;5;124m_objName\u001b[39m\u001b[38;5;124m'\u001b[39m]  \u001b[38;5;66;03m## identifies object type\u001b[39;00m\n",
      "File \u001b[0;32m/opt/homebrew/lib/python3.11/site-packages/vpython/vpython.py:257\u001b[0m, in \u001b[0;36mbaseObj.__init__\u001b[0;34m(self, **kwargs)\u001b[0m\n\u001b[1;32m    254\u001b[0m \u001b[38;5;28;01mif\u001b[39;00m \u001b[38;5;129;01mnot\u001b[39;00m (baseObj\u001b[38;5;241m.\u001b[39m_view_constructed \u001b[38;5;129;01mor\u001b[39;00m\n\u001b[1;32m    255\u001b[0m         baseObj\u001b[38;5;241m.\u001b[39m_canvas_constructing):\n\u001b[1;32m    256\u001b[0m     \u001b[38;5;28;01mif\u001b[39;00m _isnotebook:\n\u001b[0;32m--> 257\u001b[0m         \u001b[38;5;28;01mfrom\u001b[39;00m \u001b[38;5;21;01m.\u001b[39;00m\u001b[38;5;21;01mwith_notebook\u001b[39;00m \u001b[38;5;28;01mimport\u001b[39;00m _\n\u001b[1;32m    258\u001b[0m     \u001b[38;5;28;01melse\u001b[39;00m:\n\u001b[1;32m    259\u001b[0m         \u001b[38;5;28;01mfrom\u001b[39;00m \u001b[38;5;21;01m.\u001b[39;00m\u001b[38;5;21;01mno_notebook\u001b[39;00m \u001b[38;5;28;01mimport\u001b[39;00m _\n",
      "File \u001b[0;32m/opt/homebrew/lib/python3.11/site-packages/vpython/with_notebook.py:153\u001b[0m\n\u001b[1;32m    151\u001b[0m baseObj\u001b[38;5;241m.\u001b[39mglow \u001b[38;5;241m=\u001b[39m GlowWidget(wsport\u001b[38;5;241m=\u001b[39m__SOCKET_PORT, wsuri\u001b[38;5;241m=\u001b[39m\u001b[38;5;124m'\u001b[39m\u001b[38;5;124m/ws\u001b[39m\u001b[38;5;124m'\u001b[39m)\n\u001b[1;32m    152\u001b[0m \u001b[38;5;28;01mwhile\u001b[39;00m (\u001b[38;5;129;01mnot\u001b[39;00m wsConnected):\n\u001b[0;32m--> 153\u001b[0m     \u001b[43mtime\u001b[49m\u001b[38;5;241;43m.\u001b[39;49m\u001b[43msleep\u001b[49m\u001b[43m(\u001b[49m\u001b[38;5;241;43m0.1\u001b[39;49m\u001b[43m)\u001b[49m          \u001b[38;5;66;03m# wait for websocket to connect\u001b[39;00m\n\u001b[1;32m    155\u001b[0m baseObj\u001b[38;5;241m.\u001b[39mtrigger()  \u001b[38;5;66;03m# start the trigger ping-pong process\u001b[39;00m\n\u001b[1;32m    158\u001b[0m \u001b[38;5;66;03m# Same justification as above for removing the ipykernel check.\u001b[39;00m\n\u001b[1;32m    159\u001b[0m \u001b[38;5;66;03m# There was also an IPython version check for >=4, which was\u001b[39;00m\n\u001b[1;32m    160\u001b[0m \u001b[38;5;66;03m# released in Nov 2015. Ok to stop supporting in 2.019 I think.\u001b[39;00m\n",
      "\u001b[0;31mKeyboardInterrupt\u001b[0m: "
     ]
    }
   ],
   "source": [
    "# Iterasi metode Verlet versi posisi\n",
    "# Notasi:\n",
    "# xn untuk posisi pada indeks n\n",
    "# xnp1 untuk posisi pada indeks n+1 (n plus 1)\n",
    "# xnm1 untuk posisi pada indeks n-1 (n minus 1)\n",
    "\n",
    "# == VPython ==\n",
    "# Tambah Scene\n",
    "scene = canvas(title='Matahari dan Planet', width=400, height=400, center=vector(0,0,0))\n",
    "# Buat Bola\n",
    "sun = sphere(pos=vector(0,0,0), radius= 0.3, color=color.yellow)\n",
    "planet = sphere(pos=vector(1,0,0), radius= 0.1, make_trail=True, texture=textures.earth)\n",
    "# \n",
    "\n",
    "# Nilai awal\n",
    "xn = x0\n",
    "yn = y0\n",
    "vxn = vx0\n",
    "vyn = vy0\n",
    "\n",
    "# Array\n",
    "x = [x0]\n",
    "y = [y0]\n",
    "vx = [vx0]\n",
    "vy = [vy0]\n",
    "t = [0.0]\n",
    "tn = 0.0\n",
    "\n",
    "#Percepatan awal\n",
    "r = sqrt(xn**2 + yn**2)\n",
    "r3 = r**3\n",
    "axn = -xn*GM/r3\n",
    "ayn = -yn*GM/r3\n",
    "\n",
    "for i in range(200):\n",
    "\n",
    "    # Metode Verlet versi posisi\n",
    "    vxnp1 = vxn + 0.5*axn*dt\n",
    "    vynp1 = vyn + 0.5*ayn*dt\n",
    "\n",
    "    xnp1 = xn + vxn*dt + 0.5*axn*dt**2\n",
    "    ynp1 = yn + vyn*dt + 0.5*ayn*dt**2\n",
    "\n",
    "    # Update percepatan\n",
    "    r = sqrt(xnp1**2 + ynp1**2)\n",
    "    r3 = r**3\n",
    "    axn = -xnp1*GM/r3\n",
    "    ayn = -ynp1*GM/r3\n",
    "    \n",
    "    vxnp1 = vxnp1 + 0.5*axn*dt\n",
    "    vynp1 = vynp1 + 0.5*ayn*dt\n",
    "\n",
    "    # Simpan untuk iterasi selanjunya\n",
    "    xn = xnp1\n",
    "    yn = ynp1\n",
    "    vxn = vxnp1\n",
    "    vyn = vynp1\n",
    "    tn += dt\n",
    "\n",
    "    # Simpan hasil pada list\n",
    "    x.append(xn)\n",
    "    y.append(yn)\n",
    "    vx.append(vxn)\n",
    "    vy.append(vyn)\n",
    "    t.append(tn)\n",
    "    \n",
    "    #Visualisasi dengan Vpython\n",
    "    rate(20)\n",
    "    planet.pos = vector(xn, yn, 0)\n",
    "    "
   ]
  },
  {
   "cell_type": "code",
   "execution_count": null,
   "metadata": {},
   "outputs": [],
   "source": []
  }
 ],
 "metadata": {
  "kernelspec": {
   "display_name": "Python 3 (ipykernel)",
   "language": "python",
   "name": "python3"
  },
  "language_info": {
   "codemirror_mode": {
    "name": "ipython",
    "version": 3
   },
   "file_extension": ".py",
   "mimetype": "text/x-python",
   "name": "python",
   "nbconvert_exporter": "python",
   "pygments_lexer": "ipython3",
   "version": "3.12.3"
  }
 },
 "nbformat": 4,
 "nbformat_minor": 4
}
