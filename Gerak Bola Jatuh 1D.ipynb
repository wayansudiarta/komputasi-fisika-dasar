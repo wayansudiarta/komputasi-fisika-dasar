{
 "cells": [
  {
   "cell_type": "markdown",
   "metadata": {},
   "source": [
    "# Gerakan bola dilempar ke atas\n",
    "\n",
    "**I Wayan Sudiarta, Ph.D.**\n",
    "\n",
    "Pada latihan ini, kita menggunakan Python dan modul Matplotlib untuk perhitungan dan visualisasi gerakan bola dilempar dari atas permukaan Bumi. Perhatikan Gambar di bawah ini.\n",
    "\n",
    "![bola dilempar ke atas](bola-dilempar.png)"
   ]
  },
  {
   "cell_type": "markdown",
   "metadata": {},
   "source": [
    "Kita menyelesaikan persamaan Newton yaitu\n",
    "\\begin{equation}\n",
    "a_x = -g\n",
    "\\end{equation}\n",
    "\n",
    "\\begin{equation}\n",
    "\\frac{d^2 x}{d t^2} = a_x = -g\n",
    "\\end{equation}\n",
    "\n",
    "Kita ubah menjadi dua persamaan dengan $v_x = dx/dt$:\n",
    "\\begin{equation}\n",
    "\\frac{d v_x}{d t} = a_x = -g\n",
    "\\end{equation}\n",
    "\\begin{equation}\n",
    "\\frac{d x}{d t} = v_x\n",
    "\\end{equation}\n"
   ]
  },
  {
   "cell_type": "code",
   "execution_count": 1,
   "metadata": {},
   "outputs": [],
   "source": [
    "%matplotlib inline"
   ]
  },
  {
   "cell_type": "code",
   "execution_count": 2,
   "metadata": {},
   "outputs": [],
   "source": [
    "import numpy as np\n",
    "import matplotlib.pyplot as plt"
   ]
  },
  {
   "cell_type": "code",
   "execution_count": 3,
   "metadata": {},
   "outputs": [],
   "source": [
    "# Inisialisasi parameter\n",
    "\n",
    "# Delta t dalam sekon\n",
    "dt = 0.05\n",
    "\n",
    "# Posisi awal (m) dan Kecepatan awal dalam m/s\n",
    "x0 = 0.0\n",
    "vx0 = 10.0\n",
    "\n",
    "# Nilai gravitasi Bumi dalam m/s^2\n",
    "g = 9.81"
   ]
  },
  {
   "cell_type": "markdown",
   "metadata": {},
   "source": [
    "## Metode Euler\n",
    "\n",
    "Dengan metode Euler kita memperoleh persamaan iterasi numerik untuk selang waktu $\\Delta t$ adalah\n",
    "\\begin{equation}\n",
    "x_{n+1} = x_n + v_{x,n}\\Delta t\n",
    "\\end{equation}\n",
    "\\begin{equation}\n",
    "v_{x,n+1} = v_{x,n} + a_{x,n}\\Delta t\n",
    "\\end{equation}"
   ]
  },
  {
   "cell_type": "code",
   "execution_count": 4,
   "metadata": {},
   "outputs": [],
   "source": [
    "# Iterasi metode Euler\n",
    "# Notasi:\n",
    "# xn untuk posisi pada indeks n\n",
    "# xnp1 untuk posisi pada indeks n+1 (n plus 1)\n",
    "\n",
    "# Nilai awal\n",
    "xn = x0\n",
    "vxn = vx0\n",
    "\n",
    "# Array\n",
    "x = [xn]\n",
    "vx = [vxn]\n",
    "t = [0.0]\n",
    "tn = 0.0\n",
    "\n",
    "for i in range(40):\n",
    "    # Update percepatan\n",
    "    axn = -g\n",
    "\n",
    "    # Metode Euler\n",
    "    xnp1 = xn + vxn*dt\n",
    "    vxnp1 = vxn + axn*dt\n",
    "\n",
    "    # Simpan untuk iterasi selanjunya\n",
    "    xn = xnp1\n",
    "    vxn = vxnp1\n",
    "    tn += dt\n",
    "\n",
    "    # Simpan hasil pada list\n",
    "    x.append(xnp1)\n",
    "    vx.append(vxn)\n",
    "    t.append(tn)"
   ]
  },
  {
   "cell_type": "code",
   "execution_count": 5,
   "metadata": {},
   "outputs": [],
   "source": [
    "# Nilai eksak dihitung dengan\n",
    "# Persamaan gerak lurus dengan a konstan\n",
    "xe = [x0]\n",
    "vxe = [vx0]\n",
    "axn = -g\n",
    "tn = 0.0\n",
    "for i in range(40):\n",
    "    tn += dt\n",
    "    # Persamaan gerak\n",
    "    vxn = vx0 + axn*tn\n",
    "    xn = x0 + vx0*tn + 0.5*axn*tn**2\n",
    "    # Simpan\n",
    "    vxe.append(vxn)\n",
    "    xe.append(xn)"
   ]
  },
  {
   "cell_type": "code",
   "execution_count": 6,
   "metadata": {},
   "outputs": [
    {
     "data": {
      "image/png": "[encoded data removed]",
      "text/plain": [
       "<Figure size 432x288 with 1 Axes>"
      ]
     },
     "metadata": {
      "needs_background": "light"
     },
     "output_type": "display_data"
    }
   ],
   "source": [
    "#Visualisasi\n",
    "plt.plot(t,x,'ob', label = 'Metode Euler')\n",
    "plt.plot(t,xe,'-r', label = 'Eksak')\n",
    "plt.xlabel('$t$')\n",
    "plt.ylabel('$x$')\n",
    "plt.legend()\n",
    "plt.show()"
   ]
  },
  {
   "cell_type": "markdown",
   "metadata": {},
   "source": [
    "## Metode Leapfrog\n",
    "\n",
    "Persamaan iterasi numerik untuk metode leapfrog dengan selang waktu $\\Delta t$ adalah\n",
    "\\begin{equation}\n",
    "x_{n+1} = x_n + v_{x,n+\\tfrac{1}{2}}\\Delta t\n",
    "\\end{equation}\n",
    "\\begin{equation}\n",
    "v_{x,n+\\tfrac{1}{2}} = v_{x,n-\\tfrac{1}{2}} + a_{x,n}\\Delta t\n",
    "\\end{equation}\n",
    "\n",
    "Untuk memulai iterasi kita membutuhkan pendekatan untuk kecepatan pada waktu $t = \\tfrac{1}{2}$, $v_{x,\\tfrac{1}{2}}$.\n",
    "\\begin{equation}\n",
    "v_{x,\\tfrac{1}{2}} = v_{x,0} + \\frac{1}{2} a_{x,0}\\Delta t\n",
    "\\end{equation}\n",
    "\n"
   ]
  },
  {
   "cell_type": "code",
   "execution_count": 7,
   "metadata": {},
   "outputs": [],
   "source": [
    "# Iterasi metode leapfrog\n",
    "# Notasi:\n",
    "# xn untuk posisi pada indeks n\n",
    "# xnp1 untuk posisi pada indeks n+1 (n plus 1)\n",
    "# vxnps untuk posisi pada indeks n+1/2 (n plus 1/2)\n",
    "# vxnms untuk posisi pada indeks n-1/2 (n minus 1/2)\n",
    "\n",
    "# Nilai awal\n",
    "ax0 = -g\n",
    "vxs0 = vx0 + 0.5*ax0*dt\n",
    "\n",
    "# Array\n",
    "x = [x0]\n",
    "vx = [vxs0]\n",
    "t = [0.0]\n",
    "tn = 0.0\n",
    "\n",
    "xn = x0\n",
    "vxn = vxs0\n",
    "for i in range(40):\n",
    "    # Update percepatan\n",
    "    axn = -g\n",
    "\n",
    "    # Metode Setengah Langkah\n",
    "    xnp1 = xn + vxn*dt\n",
    "    vxnp1 = vxn + axn*dt\n",
    "    \n",
    "    # Simpan untuk iterasi selanjunya\n",
    "    xn = xnp1\n",
    "    vxn = vxnp1\n",
    "    tn += dt\n",
    "\n",
    "    # Simpan hasil pada list\n",
    "    x.append(xn)\n",
    "    vx.append(vxn)\n",
    "    t.append(tn)"
   ]
  },
  {
   "cell_type": "code",
   "execution_count": 8,
   "metadata": {},
   "outputs": [
    {
     "data": {
      "image/png": "[encoded data removed]",
      "text/plain": [
       "<Figure size 432x288 with 1 Axes>"
      ]
     },
     "metadata": {
      "needs_background": "light"
     },
     "output_type": "display_data"
    }
   ],
   "source": [
    "#Visualisasi\n",
    "plt.plot(t,x,'ob', label = 'Metode Leap Frog')\n",
    "plt.plot(t,xe,'-r', label = 'Eksak')\n",
    "plt.xlabel('$t$')\n",
    "plt.ylabel('$x$')\n",
    "plt.legend()\n",
    "plt.show()"
   ]
  },
  {
   "cell_type": "markdown",
   "metadata": {},
   "source": [
    "## Metode Verlet versi Posisi\n",
    "\n",
    "Dengan metode Verlet versi posisi, persamaan iterasi numerik untuk selang waktu $\\Delta t$ adalah\n",
    "\\begin{equation}\n",
    "x_{n+1} = 2 x_n - x_{n-1} + a_{x,n}(\\Delta t)^2\n",
    "\\end{equation}"
   ]
  },
  {
   "cell_type": "code",
   "execution_count": 9,
   "metadata": {},
   "outputs": [],
   "source": [
    "# Iterasi metode Verlet versi posisi\n",
    "# Notasi:\n",
    "# xn untuk posisi pada indeks n\n",
    "# xnp1 untuk posisi pada indeks n+1 (n plus 1)\n",
    "# xnm1 untuk posisi pada indeks n-1 (n minus 1)\n",
    "\n",
    "# Nilai awal\n",
    "ax0 = -g\n",
    "x1 = x0 + vx0*dt + 0.5*ax0*dt**2\n",
    "\n",
    "xnm1 = x0\n",
    "xn = x1\n",
    "\n",
    "# Array\n",
    "x = [x0, x1]\n",
    "t2 = [0.0, dt]\n",
    "tn = dt\n",
    "\n",
    "for i in range(40):\n",
    "    # Update percepatan\n",
    "    axn = -g\n",
    "\n",
    "    # Metode Verlet versi posisi\n",
    "    xnp1 = 2*xn - xnm1 + axn*dt**2\n",
    "\n",
    "    # Simpan untuk iterasi selanjunya\n",
    "    xnm1 = xn\n",
    "    xn   = xnp1\n",
    "    tn += dt\n",
    "\n",
    "    # Simpan hasil pada list\n",
    "    x.append(xnp1)\n",
    "    t2.append(tn)"
   ]
  },
  {
   "cell_type": "code",
   "execution_count": 10,
   "metadata": {},
   "outputs": [
    {
     "data": {
      "image/png": "[encoded data removed]",
      "text/plain": [
       "<Figure size 432x288 with 1 Axes>"
      ]
     },
     "metadata": {
      "needs_background": "light"
     },
     "output_type": "display_data"
    }
   ],
   "source": [
    "#Visualisasi\n",
    "plt.plot(t2,x,'ob', label = 'Metode Verlet Posisi')\n",
    "plt.plot(t,xe,'-r', label = 'Eksak')\n",
    "plt.xlabel('$t$')\n",
    "plt.ylabel('$x$')\n",
    "plt.legend()\n",
    "plt.show()"
   ]
  },
  {
   "cell_type": "markdown",
   "metadata": {},
   "source": [
    "## Metode Verlet versi Kecepatan\n",
    "\n",
    "Dengan metode Verlet versi posisi, persamaan iterasi numerik untuk selang waktu $\\Delta t$ adalah\n",
    "\\begin{equation}\n",
    "x_{n+1} = x_n + v_{n}\\Delta t + \\frac{1}{2}a_{x,n}(\\Delta t)^2\n",
    "\\end{equation}\n",
    "\n",
    "\\begin{equation}\n",
    "v_{x,n+1} = v_{x,n} + \\frac{1}{2}(a_{x,n} + a_{x,n+1})\\Delta t\n",
    "\\end{equation}"
   ]
  },
  {
   "cell_type": "code",
   "execution_count": 11,
   "metadata": {},
   "outputs": [],
   "source": [
    "# Iterasi metode Verlet versi posisi\n",
    "# Notasi:\n",
    "# xn untuk posisi pada indeks n\n",
    "# xnp1 untuk posisi pada indeks n+1 (n plus 1)\n",
    "# xnm1 untuk posisi pada indeks n-1 (n minus 1)\n",
    "\n",
    "# Nilai awal\n",
    "xn = x0\n",
    "vxn = vx0\n",
    "\n",
    "# Array\n",
    "x = [x0]\n",
    "vx = [vx0]\n",
    "t = [0.0]\n",
    "tn = 0.0\n",
    "\n",
    "for i in range(40):\n",
    "\n",
    "    # Metode Verlet versi posisi\n",
    "    vxnp1 = vxn + 0.5*axn*dt\n",
    "\n",
    "    xnp1 = xn + vxn*dt + 0.5*axn*dt**2\n",
    "\n",
    "    # Update percepatan\n",
    "    axn = -g\n",
    "\n",
    "    vxnp1 = vxnp1 + 0.5*axn*dt\n",
    "\n",
    "    # Simpan untuk iterasi selanjunya\n",
    "    xn = xnp1\n",
    "    vxn = vxnp1\n",
    "    tn += dt\n",
    "\n",
    "    # Simpan hasil pada list\n",
    "    x.append(xn)\n",
    "    vx.append(vxn)\n",
    "    t.append(tn)"
   ]
  },
  {
   "cell_type": "code",
   "execution_count": 12,
   "metadata": {},
   "outputs": [
    {
     "data": {
      "image/png": "[encoded data removed]",
      "text/plain": [
       "<Figure size 432x288 with 1 Axes>"
      ]
     },
     "metadata": {
      "needs_background": "light"
     },
     "output_type": "display_data"
    }
   ],
   "source": [
    "#Visualisasi\n",
    "plt.plot(t,x,'ob', label = 'Metode Verlet Posisi')\n",
    "plt.plot(t,xe,'-r', label = 'Eksak')\n",
    "plt.xlabel('$t$')\n",
    "plt.ylabel('$x$')\n",
    "plt.legend()\n",
    "plt.show()"
   ]
  },
  {
   "cell_type": "code",
   "execution_count": null,
   "metadata": {},
   "outputs": [],
   "source": []
  }
 ],
 "metadata": {
  "kernelspec": {
   "display_name": "Python 3",
   "language": "python",
   "name": "python3"
  },
  "language_info": {
   "codemirror_mode": {
    "name": "ipython",
    "version": 3
   },
   "file_extension": ".py",
   "mimetype": "text/x-python",
   "name": "python",
   "nbconvert_exporter": "python",
   "pygments_lexer": "ipython3",
   "version": "3.8.5"
  }
 },
 "nbformat": 4,
 "nbformat_minor": 4
}
